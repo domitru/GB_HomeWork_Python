{
  "nbformat": 4,
  "nbformat_minor": 0,
  "metadata": {
    "colab": {
      "provenance": [],
      "authorship_tag": "ABX9TyMfY8S/boOy9DJHvFFYwDNN",
      "include_colab_link": true
    },
    "kernelspec": {
      "name": "python3",
      "display_name": "Python 3"
    },
    "language_info": {
      "name": "python"
    }
  },
  "cells": [
    {
      "cell_type": "markdown",
      "metadata": {
        "id": "view-in-github",
        "colab_type": "text"
      },
      "source": [
        "<a href=\"https://colab.research.google.com/github/domitru/GB_HomeWork_Python/blob/main/GB_Python_HomeWork_9.ipynb\" target=\"_parent\"><img src=\"https://colab.research.google.com/assets/colab-badge.svg\" alt=\"Open In Colab\"/></a>"
      ]
    },
    {
      "cell_type": "markdown",
      "source": [
        "# Домашняя работа\n",
        "### Урок 9. Работа с табличными данными\n",
        "* 1. Задача 40 :\n",
        "* a. Работать с файлом california_housing_train.csv, который находится в папке sample_data.\n",
        "* b. Определить среднюю стоимость дома ( median_house_value ), где кол-во людей от 0 до 500 (population)\n"
      ],
      "metadata": {
        "id": "J4drzkC6MYY8"
      }
    },
    {
      "cell_type": "code",
      "source": [
        "import pandas as pd\n",
        "\n",
        "\n",
        "df = pd.read_csv('sample_data/california_housing_train.csv')\n"
      ],
      "metadata": {
        "id": "VGZrl82KTc1S"
      },
      "execution_count": 10,
      "outputs": []
    },
    {
      "cell_type": "code",
      "source": [
        "df.loc[(df['population'] > 0) & (df['population'] < 500), 'median_house_value'].mean()"
      ],
      "metadata": {
        "colab": {
          "base_uri": "https://localhost:8080/"
        },
        "id": "KM2fBW3AV6Ew",
        "outputId": "cdfc8afd-7a6b-48fe-c697-b788d647c250"
      },
      "execution_count": 20,
      "outputs": [
        {
          "output_type": "execute_result",
          "data": {
            "text/plain": [
              "206683.83635227982"
            ]
          },
          "metadata": {},
          "execution_count": 20
        }
      ]
    },
    {
      "cell_type": "markdown",
      "source": [
        "\n",
        "\n",
        "* 2. Задача 42:\n",
        "* Узнать какая максимальная households в зоне   минимального значения population"
      ],
      "metadata": {
        "id": "G3fkmGhfZDSA"
      }
    },
    {
      "cell_type": "code",
      "source": [
        "df.loc[df['population'].min() == df['population'], 'households']"
      ],
      "metadata": {
        "colab": {
          "base_uri": "https://localhost:8080/"
        },
        "id": "Yz3DUYcbZNkO",
        "outputId": "78243052-471e-4ea6-dbda-a73574a0bd95"
      },
      "execution_count": 21,
      "outputs": [
        {
          "output_type": "execute_result",
          "data": {
            "text/plain": [
              "8232    4.0\n",
              "Name: households, dtype: float64"
            ]
          },
          "metadata": {},
          "execution_count": 21
        }
      ]
    }
  ]
}